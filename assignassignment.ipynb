{
 "cells": [
  {
   "cell_type": "code",
   "execution_count": null,
   "id": "db15552f-fbea-424b-9c4b-c386b06f75b0",
   "metadata": {},
   "outputs": [],
   "source": [
    "per = int(input(\"enter marks\"))\n",
    "if per >90:\n",
    "    print(\"Grade is A\")\n",
    "elif per > 80 and per <= 90 :\n",
    "    print(\"Grade is B\")\n",
    "elif per >= 60 and per <= 80:\n",
    "    print(\"Grade is C\")\n",
    "elif per < 60 :\n",
    "    print(\"Grade is D\")"
   ]
  },
  {
   "cell_type": "code",
   "execution_count": null,
   "id": "1b83e4d4-0488-455d-b9a9-82a333b1650c",
   "metadata": {},
   "outputs": [],
   "source": [
    "tax = 0\n",
    "cpr = int(input(\"enter price of bike\"))\n",
    "if cpr > 100000 :\n",
    "    tax  = 15/100*cpr\n",
    "elif cpr > 50000 and cpr <= 100000 :\n",
    "    tax = 10/100*cpr\n",
    "else:\n",
    "        print(\"tax to be paid\",tax)"
   ]
  },
  {
   "cell_type": "code",
   "execution_count": null,
   "id": "42701d9f-eb24-466c-97db-a797feff0ece",
   "metadata": {},
   "outputs": [],
   "source": [
    "city = input(\"enter name of city\")\n",
    "if city.lower() ==\"delhi\":\n",
    "    print(\"Monument name : Red fort\")\n",
    "elif city.lower() ==\"agra\":\n",
    "    print(\"Monument name : Taj mahal\")\n",
    "elif city.lower() ==\"Jaipur\":\n",
    "    print(\"Monument name : Jal mahal\")\n",
    "else:\n",
    "    print(\"enter correct name of city\")"
   ]
  },
  {
   "cell_type": "code",
   "execution_count": null,
   "id": "4b4c4cbc-f13e-4cdd-af1d-7a1f7612a00e",
   "metadata": {},
   "outputs": [],
   "source": [
    "count = 1\n",
    "# condition : Run loop till count is less than 3\n",
    "while count < 3 :\n",
    "    print(count)\n",
    "    count = count + 1"
   ]
  },
  {
   "cell_type": "code",
   "execution_count": 1,
   "id": "984f3ced-22a8-4b57-a762-788b2ea22313",
   "metadata": {},
   "outputs": [
    {
     "data": {
      "text/plain": [
       "'while loop in Python is used when piece of code needs to be pepeated over and over'"
      ]
     },
     "execution_count": 1,
     "metadata": {},
     "output_type": "execute_result"
    }
   ],
   "source": [
    "\"while loop in Python is used when piece of code needs to be pepeated over and over\""
   ]
  },
  {
   "cell_type": "code",
   "execution_count": 2,
   "id": "ece17687-5bc4-40c0-9561-3f89e660a4d6",
   "metadata": {},
   "outputs": [
    {
     "name": "stdout",
     "output_type": "stream",
     "text": [
      "1\n",
      "2\n",
      "3\n",
      "4\n",
      "5\n",
      "6\n",
      "7\n",
      "8\n",
      "9\n"
     ]
    }
   ],
   "source": [
    "i = 1\n",
    "while i< 10:\n",
    "    print(i)\n",
    "    i+=1"
   ]
  },
  {
   "cell_type": "code",
   "execution_count": 3,
   "id": "ff584ced-f518-499e-ab56-a2d6eb2d9bd4",
   "metadata": {},
   "outputs": [
    {
     "data": {
      "text/plain": [
       "'example 1 - while loop inside another while loop'"
      ]
     },
     "execution_count": 3,
     "metadata": {},
     "output_type": "execute_result"
    }
   ],
   "source": [
    "\"example 1 - while loop inside another while loop\""
   ]
  },
  {
   "cell_type": "code",
   "execution_count": 7,
   "id": "41535b48-99ad-4a16-8529-83f1d7f85e57",
   "metadata": {},
   "outputs": [
    {
     "name": "stdout",
     "output_type": "stream",
     "text": [
      "0\n",
      "2\n",
      "6\n",
      "12\n"
     ]
    }
   ],
   "source": [
    "i = 1\n",
    "while i <= 4 :\n",
    "    j = 0\n",
    "    while j <= 3 :\n",
    "        print(i*j, end =\"\")\n",
    "        j += 1\n",
    "        print()\n",
    "        i +=1"
   ]
  },
  {
   "cell_type": "code",
   "execution_count": 8,
   "id": "f861bc95-34e3-465b-b5e2-490c7edab559",
   "metadata": {},
   "outputs": [
    {
     "data": {
      "text/plain": [
       "'example 2 - level nested while loop'"
      ]
     },
     "execution_count": 8,
     "metadata": {},
     "output_type": "execute_result"
    }
   ],
   "source": [
    "\"example 2 - level nested while loop\""
   ]
  },
  {
   "cell_type": "code",
   "execution_count": 9,
   "id": "bff487eb-327e-43f8-9f8a-5569c7fcc2c0",
   "metadata": {},
   "outputs": [
    {
     "name": "stdout",
     "output_type": "stream",
     "text": [
      "0\n",
      "\n",
      "2\n",
      "\n",
      "12\n",
      "\n",
      "36\n",
      "\n",
      "80\n",
      "\n",
      "150\n",
      "\n"
     ]
    }
   ],
   "source": [
    "i = 1\n",
    "while i <= 4 :\n",
    "    j = 0\n",
    "    while j <=3 :\n",
    "        k = 0\n",
    "        while k <= 5 :\n",
    "            print (i*j*k, end=\"\")\n",
    "            k +=1\n",
    "            print()\n",
    "            j += 1\n",
    "            print()\n",
    "            i += 1"
   ]
  },
  {
   "cell_type": "code",
   "execution_count": null,
   "id": "0f218837-afbc-4066-ad42-cb68252fdbc3",
   "metadata": {},
   "outputs": [],
   "source": [
    "n = int(input(5))\n",
    "i = 1\n",
    "while i <= n :\n",
    "    j = n\n",
    "    while j >= i:\n",
    "        print()"
   ]
  },
  {
   "cell_type": "code",
   "execution_count": null,
   "id": "19a4ea15-638a-4c5d-be52-6163d666cae7",
   "metadata": {},
   "outputs": [],
   "source": [
    "i = 10\n",
    "while i > 0 :\n",
    "    print(i)\n",
    "    i = i-1"
   ]
  },
  {
   "cell_type": "code",
   "execution_count": null,
   "id": "58b39937-2302-4e4c-8968-793356bdee91",
   "metadata": {},
   "outputs": [],
   "source": []
  }
 ],
 "metadata": {
  "kernelspec": {
   "display_name": "Python 3 (ipykernel)",
   "language": "python",
   "name": "python3"
  },
  "language_info": {
   "codemirror_mode": {
    "name": "ipython",
    "version": 3
   },
   "file_extension": ".py",
   "mimetype": "text/x-python",
   "name": "python",
   "nbconvert_exporter": "python",
   "pygments_lexer": "ipython3",
   "version": "3.10.8"
  }
 },
 "nbformat": 4,
 "nbformat_minor": 5
}
